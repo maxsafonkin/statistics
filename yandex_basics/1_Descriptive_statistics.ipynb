{
 "cells": [
  {
   "cell_type": "markdown",
   "metadata": {},
   "source": [
    "# Описательная статистика"
   ]
  },
  {
   "cell_type": "markdown",
   "metadata": {},
   "source": [
    "Выделяют 3 типы данных:\n",
    "\n",
    "- **Категориальные** описывают данные, которые могут принимать ограниченное количество уникальных значений (цвет глаз)\n",
    "\n",
    "- **Порядковые**, как и категориальные, принимают ограниченное количество уникальных значений, однако их можно сравнивать (размер одежды)\n",
    "\n",
    "- **Числовые** данные описывают то, что можно измерить числом (количество продаж товара в месяц). Данными этого типа можно сравнивать между собой, а также выполнять над ними арифметические операции."
   ]
  },
  {
   "cell_type": "markdown",
   "metadata": {},
   "source": [
    "## Mean"
   ]
  },
  {
   "cell_type": "markdown",
   "metadata": {},
   "source": [
    "No comments..."
   ]
  },
  {
   "cell_type": "code",
   "execution_count": 2,
   "metadata": {},
   "outputs": [],
   "source": [
    "def mean(X: list[float]) -> float:\n",
    "    return sum(X)/len(X)"
   ]
  },
  {
   "cell_type": "code",
   "execution_count": 4,
   "metadata": {},
   "outputs": [
    {
     "data": {
      "text/plain": [
       "0.0"
      ]
     },
     "execution_count": 4,
     "metadata": {},
     "output_type": "execute_result"
    }
   ],
   "source": [
    "mean([-2, -1, 0, 1, 2]) # 0.0"
   ]
  },
  {
   "cell_type": "markdown",
   "metadata": {},
   "source": [
    "## Median"
   ]
  },
  {
   "cell_type": "markdown",
   "metadata": {},
   "source": [
    "Иногда среднее не отражает действительную картину.\n",
    "\n",
    "Ниже приведен ряд распределения зарплат в области\n",
    "\n",
    "|Зарплата|10 000|15 000|20 000|25 000|1 000 000|\n",
    "|-|-|-|-|-|-|\n",
    "|Должность|Junior|Middle|Senior|Lead|CEO|\n",
    "\n",
    "Среднее значение:"
   ]
  },
  {
   "cell_type": "code",
   "execution_count": 6,
   "metadata": {},
   "outputs": [
    {
     "data": {
      "text/plain": [
       "212000.0"
      ]
     },
     "execution_count": 6,
     "metadata": {},
     "output_type": "execute_result"
    }
   ],
   "source": [
    "mean([10_000, 15_000, 15_000, 20_000, 1_000_000])"
   ]
  },
  {
   "cell_type": "markdown",
   "metadata": {},
   "source": [
    "Очевидно, что для описания средней зарплаты данная функция не подходит. На замену приходит **медиана**."
   ]
  },
  {
   "cell_type": "code",
   "execution_count": 8,
   "metadata": {},
   "outputs": [],
   "source": [
    "def median(X: list[float]) -> float:\n",
    "    X_len = len(X)\n",
    "    X_sorted = sorted(X)\n",
    "    if X_len % 2 == 0:\n",
    "        return (X_sorted[X_len//2 - 1] + X_sorted[X_len//2]) / 2\n",
    "    else:\n",
    "        return X_sorted[X_len//2]"
   ]
  },
  {
   "cell_type": "code",
   "execution_count": 11,
   "metadata": {},
   "outputs": [
    {
     "data": {
      "text/plain": [
       "15000"
      ]
     },
     "execution_count": 11,
     "metadata": {},
     "output_type": "execute_result"
    }
   ],
   "source": [
    "median([10_000, 15_000, 15_000, 20_000, 1_000_000])"
   ]
  },
  {
   "cell_type": "markdown",
   "metadata": {},
   "source": [
    "Данная характеристика дает более информативную интерпретацию среднего значения"
   ]
  },
  {
   "cell_type": "markdown",
   "metadata": {},
   "source": [
    "## Quantile"
   ]
  },
  {
   "cell_type": "markdown",
   "metadata": {},
   "source": [
    "Число x является **a-квантилем** набора данных, если оно делит этот набор данных таким образом, что a% наблюдений меньше или равны x и (100−a)% наблюдений больше или равны x"
   ]
  },
  {
   "cell_type": "code",
   "execution_count": 16,
   "metadata": {},
   "outputs": [],
   "source": [
    "def quantile(X: list[float], alpha: float) -> float:\n",
    "    if not (0 <= alpha <= 1):\n",
    "        raise ValueError(\"Allowed values for alpha should be between [0, 1].\")\n",
    "    \n",
    "    X_sorted = sorted(X)\n",
    "    X_len = len(X)\n",
    "    quantile_i = X_len * alpha\n",
    "\n",
    "    if (int_qi := int(quantile_i)) == quantile_i:\n",
    "        return X_sorted[int_qi - 1]\n",
    "    else:\n",
    "        return (X_sorted[int_qi - 1] + X_sorted[int_qi]) / 2\n"
   ]
  },
  {
   "cell_type": "code",
   "execution_count": 22,
   "metadata": {},
   "outputs": [
    {
     "data": {
      "text/plain": [
       "36.0"
      ]
     },
     "execution_count": 22,
     "metadata": {},
     "output_type": "execute_result"
    }
   ],
   "source": [
    "X = [35, 37, 36, 38, 26, 41, 33, 32, 39, 47, 38, 30, 34, 36, 37, 42, 29, 45, 44, 27]\n",
    "quantile(X, 0.48)"
   ]
  },
  {
   "cell_type": "markdown",
   "metadata": {},
   "source": [
    "#### Related\n",
    "\n",
    "**Percentile** - отражает по смыслу то же, что и квантиль. Только квантиль — это доля от единицы, а перцентиль — это то же самое, но в процентах. 0.05-квантиль — это то же самое, что 5-й перцентиль.\n",
    "\n",
    "**Quartile** - частный случай квантилей.\n",
    "\n",
    "- **Q1** - первый квартиль - 0.25-квантиль\n",
    "\n",
    "- **Q2** - второй квартиль - 0.5-квантиль - медиана\n",
    "    \n",
    "- **Q3** - третий квартиль - 0.75-квантиль\n",
    "\n",
    "Квартили делят выборку на 4 части:\n",
    "- Значения < Q1\n",
    "- Значения лежат в промежутке [Q1, Q2]\n",
    "- Значения лежат в промежутке [Q2, Q3]\n",
    "- Значения > Q3"
   ]
  },
  {
   "cell_type": "markdown",
   "metadata": {},
   "source": [
    "Разность `Q3 - Q1` называется **межквартильным размахом** (IQR).\n",
    "\n",
    "Данная величина позволяет оценить разброс данных.\n",
    "\n",
    "Выброс — это значение или набор значений в наборе данных, которое сильно отличается от остальных.\n",
    "\n",
    "Один из методов поиска выбросов является использование квартилей и IQR. Допустим, что все значения, выходящие за 1.5 * IQR от Q1 и Q3, являются выбросами."
   ]
  },
  {
   "cell_type": "code",
   "execution_count": 26,
   "metadata": {},
   "outputs": [],
   "source": [
    "def clear_outliers(X: list[float]) -> list[float]:\n",
    "    Q1 = quantile(X, 0.25)\n",
    "    Q3 = quantile(X, 0.75)\n",
    "    IQR = Q3 - Q1\n",
    "    \n",
    "    left_bound = Q1 - 1.5 * IQR\n",
    "    right_bound = Q3 + 1.5 * IQR\n",
    "\n",
    "    X_no_outliers = [x for x in X if left_bound <= x <= right_bound]\n",
    "    return X_no_outliers"
   ]
  },
  {
   "cell_type": "code",
   "execution_count": 31,
   "metadata": {},
   "outputs": [
    {
     "name": "stdout",
     "output_type": "stream",
     "text": [
      "Outliers: [115]\n",
      "X without outliers: [42, 45, 47, 49, 52, 54, 55, 58, 60, 62, 65, 67, 68, 70, 71, 74, 77, 80, 92]\n"
     ]
    }
   ],
   "source": [
    "X = [42, 45, 47, 49, 52, 54, 55, 58, 60, 62, 65, 67, 68, 70, 71, 74, 77, 80, 92, 115]\n",
    "\n",
    "X_no_outliers = clear_outliers(X)\n",
    "\n",
    "print(f\"Outliers: {[x for x in X if x not in X_no_outliers]}\")\n",
    "print(f\"X without outliers: {X_no_outliers}\")"
   ]
  },
  {
   "cell_type": "markdown",
   "metadata": {},
   "source": [
    "## Variance"
   ]
  },
  {
   "cell_type": "markdown",
   "metadata": {},
   "source": [
    "Диспресия (variance) показывает меру разброса данных относительно среднего."
   ]
  },
  {
   "cell_type": "markdown",
   "metadata": {},
   "source": [
    "Тогда формулы дисперсии принимают два вида:\n",
    "\n",
    "- Выборочная смещенная дисперсия:\n",
    "\n",
    "$$ Var(X) = {1 \\over N} * \\sum_{i}(x_i-x_m)^2 $$\n",
    "\n",
    "- Выборочная несмещенная дисперсия:\n",
    "\n",
    "$$ Var(X) = {1 \\over N - 1} * \\sum_{i}(x_i-x_m)^2 $$"
   ]
  },
  {
   "cell_type": "markdown",
   "metadata": {},
   "source": [
    "В чем разница и почему во втором случае происходит деление на N-1?\n",
    "\n",
    "С точки зрения охвата объекта исследования, статистический анализ можно разделить на два вида:\n",
    "\n",
    "- Сплошной - оценивает генеральную совокупность данных\n",
    "\n",
    "- Выборочной - оценивает некоторую выборку\n",
    "\n",
    "Суть выборочной заключается в том, что из генеральной совокупности отбирается и анализируется только часть данных, а выводы распространяют на всю генеральную совокупность. Это позволяет затрачивать меньше ресурсов, однако выводы **всегда ошибочны** (данную ошибку необходимо минимизировать).\n",
    "\n",
    "В формуле используется выборочное среднее. Выборочное среднее – это несмещенная оценка математического ожидания, так как средняя из выборочных средних стремится к своему теоретическому значению по генеральной совокупности - к центру выборки.\n",
    "\n",
    "Средняя всегда находится в центре значений, по которым рассчитана. А раз выборочная средняя находится в центре выборки, то из этого следует, что сумма квадратов расстояний от каждого значения выборки до выборочной средней всегда меньше, чем до любой другой точки, в том числе и до генеральной средней. А раз так, то дисперсия в каждой выборке будет занижена. Средняя из заниженных дисперсий  также даст заниженное значение. То есть при многократном повторении эксперимента выборочная дисперсия не будет стремиться к своему истинному значению (как выборочная средняя), а будет смещена относительно истинного значения по генеральной совокупности.\n",
    "\n",
    "Поэтому показатели стараются оценивать таким образом, чтобы их оценки были несмещенными (как у средней арифметической). Чтобы решить проблему смещенности выборочной дисперсии, в ее расчет вносят корректировку - при расчете в знаменатель ставят не `N`, а `N-1`."
   ]
  },
  {
   "cell_type": "code",
   "execution_count": 34,
   "metadata": {},
   "outputs": [],
   "source": [
    "def var(X: list[float]) -> float:\n",
    "    X_len = len(X)\n",
    "    m = mean(X)\n",
    "    sq_err = sum([(x-m)**2 for x in X])\n",
    "    return 1 / (X_len - 1) * sq_err"
   ]
  },
  {
   "cell_type": "code",
   "execution_count": 57,
   "metadata": {},
   "outputs": [
    {
     "data": {
      "text/plain": [
       "4.0"
      ]
     },
     "execution_count": 57,
     "metadata": {},
     "output_type": "execute_result"
    }
   ],
   "source": [
    "var([-2,0,2])"
   ]
  },
  {
   "cell_type": "markdown",
   "metadata": {},
   "source": [
    "## Standard Deviation"
   ]
  },
  {
   "cell_type": "markdown",
   "metadata": {},
   "source": [
    "Дисперсия зачастую тяжело интерпретируема, так как при вычислениях используются квадраты.\n",
    "\n",
    "Для упрощения используется среднеквадратичное отклонение - квадратный корень дисперсии.\n",
    "\n",
    "$$ STD = \\sqrt{Var(X)} $$"
   ]
  },
  {
   "cell_type": "code",
   "execution_count": 58,
   "metadata": {},
   "outputs": [],
   "source": [
    "def std(X: list[float]) -> float:\n",
    "    return var(X) ** (1/2)"
   ]
  },
  {
   "cell_type": "code",
   "execution_count": 60,
   "metadata": {},
   "outputs": [
    {
     "data": {
      "text/plain": [
       "2.0"
      ]
     },
     "execution_count": 60,
     "metadata": {},
     "output_type": "execute_result"
    }
   ],
   "source": [
    "std([-2, 0, 2])"
   ]
  }
 ],
 "metadata": {
  "kernelspec": {
   "display_name": "venv",
   "language": "python",
   "name": "python3"
  },
  "language_info": {
   "codemirror_mode": {
    "name": "ipython",
    "version": 3
   },
   "file_extension": ".py",
   "mimetype": "text/x-python",
   "name": "python",
   "nbconvert_exporter": "python",
   "pygments_lexer": "ipython3",
   "version": "3.11.1"
  }
 },
 "nbformat": 4,
 "nbformat_minor": 2
}
