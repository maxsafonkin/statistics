{
 "cells": [
  {
   "cell_type": "markdown",
   "metadata": {},
   "source": [
    "# Взаимодействия между переменными"
   ]
  },
  {
   "cell_type": "markdown",
   "metadata": {},
   "source": [
    "## Covariation"
   ]
  },
  {
   "cell_type": "markdown",
   "metadata": {},
   "source": [
    "Ковариация показывает, как изменяется одна величина при изменении другой.\n",
    "\n",
    "Более формально: ковариация помогает определить, какая у этих величин совместная изменчивость.\n",
    "\n",
    "Ковариация может быть положительной, отрицательной или равной нулю.\n",
    "\n",
    "Ковариация показывает только прямое соотношение, то есть линейную зависимость, когда одна величина меняется пропорционально изменению другой. При квадратичной завимимости (y=x^2) ковариация связи не покажет"
   ]
  },
  {
   "cell_type": "markdown",
   "metadata": {},
   "source": [
    "Формула ковариации:\n",
    "\n",
    "`covar = 1 / (N - 1) * sum((x - x_ср) * (y - y_ср)) для пар (x, y) из X, Y`"
   ]
  },
  {
   "cell_type": "code",
   "execution_count": 1,
   "metadata": {},
   "outputs": [],
   "source": [
    "from functions import mean\n",
    "\n",
    "def covar(X: list[float], Y: list[float]) -> float:\n",
    "    X_len = len(X)\n",
    "    assert X_len == len(Y), \"Sets should contain same amount of samples\"\n",
    "\n",
    "    X_mean, Y_mean = mean(X), mean(Y)\n",
    "    sum_of_centered_products = sum([(X[i] - X_mean)*(Y[i] - Y_mean) for i in range(X_len)])\n",
    "    return 1 / (X_len - 1) * sum_of_centered_products"
   ]
  },
  {
   "cell_type": "code",
   "execution_count": 2,
   "metadata": {},
   "outputs": [
    {
     "data": {
      "text/plain": [
       "12.5"
      ]
     },
     "execution_count": 2,
     "metadata": {},
     "output_type": "execute_result"
    }
   ],
   "source": [
    "covar([i for i in range(5)], [i*5 for i in range(5)])"
   ]
  },
  {
   "cell_type": "markdown",
   "metadata": {},
   "source": [
    "Проблема ковариации в том, что её значение значение зависит от единиц измерения и масштаба величин.\n",
    "\n",
    "Пусть ковариация covar(X, Y) = 12.5. Насколько связь сильная? Связь между величинами есть, но по значению ковариации определить силу связи нельзя."
   ]
  },
  {
   "cell_type": "markdown",
   "metadata": {},
   "source": [
    "Для определения силы связи используют коэффициент корреляции Пирсона"
   ]
  },
  {
   "cell_type": "markdown",
   "metadata": {},
   "source": [
    "## Correlation"
   ]
  },
  {
   "cell_type": "markdown",
   "metadata": {},
   "source": [
    "Ковариация зависит от масштаба величин, именно это мешает интерпретировать её абсолютное значение. Чем больше масштаб величины, тем больше у неё разброс. \n",
    "\n",
    "За разброс отвечает стандартное отклонение. Следовательно, поделив ковариацию на среднеквадратичное отклонение каждой из величин, можно получить значение в промежутке от -1 до 1.\n",
    "\n",
    "Данный процесс называется **нормализацией**"
   ]
  },
  {
   "cell_type": "markdown",
   "metadata": {},
   "source": [
    "`corr = covar(X, Y) / (std(X) * std(Y))`"
   ]
  },
  {
   "cell_type": "code",
   "execution_count": 3,
   "metadata": {},
   "outputs": [],
   "source": [
    "from functions import covar, std\n",
    "\n",
    "def corr(X: list[float], Y: list[float]) -> float:\n",
    "    return covar(X, Y) / (std(X) * std(Y))"
   ]
  },
  {
   "cell_type": "code",
   "execution_count": 4,
   "metadata": {},
   "outputs": [
    {
     "data": {
      "text/plain": [
       "1.0"
      ]
     },
     "execution_count": 4,
     "metadata": {},
     "output_type": "execute_result"
    }
   ],
   "source": [
    "corr([i for i in range(5)], [i*5 for i in range(5)])"
   ]
  },
  {
   "cell_type": "markdown",
   "metadata": {},
   "source": [
    "Взглянем на следующий пример."
   ]
  },
  {
   "cell_type": "code",
   "execution_count": 20,
   "metadata": {},
   "outputs": [
    {
     "name": "stdout",
     "output_type": "stream",
     "text": [
      "Corr before adding outlier: 1.0\n",
      "Corr after adding outlier: -0.13\n"
     ]
    }
   ],
   "source": [
    "X = [i for i in range(10)]\n",
    "Y = [i for i in range(10)]\n",
    "\n",
    "print(f\"Corr before adding outlier: {round(corr(X, Y), 2)}\")\n",
    "\n",
    "Y[3] = 200  # выброс\n",
    "\n",
    "print(f\"Corr after adding outlier: {round(corr(X, Y), 2)}\")"
   ]
  },
  {
   "cell_type": "markdown",
   "metadata": {},
   "source": [
    "В набор данных был добавлен выброс, вследствие чего коэффициент корреляции изменил свое значение и стал указывать на обратную связь между величинами. \n",
    "\n",
    "Отсюда вывод: при наличии выбросов использовать коэффициент корреляции Пирсона нельзя."
   ]
  },
  {
   "cell_type": "markdown",
   "metadata": {},
   "source": [
    "TODO:\n",
    "\n",
    "1. Геометрический смысл коэффициента корреляции Пирсона. Понимание не только формулы, но и геометрического смысла этого показателя позволит глубже осознать связи между переменными и корректнее интерпретировать коэффициент в разных ситуациях.\n",
    "\n",
    "2. Коэффициенты корреляции Спирмена и Кендала. Эти коэффициенты помогают рассчитать корреляцию для данных с нелинейной зависимостью и с выбросами. Знание разных коэффициентов корреляции поможет вам подобрать наиболее подходящий метод анализа для конкретной задачи.\n",
    "\n",
    "3. Связь коэффициента корреляции Пирсона и линейной регрессии. Изучение этой связи поможет лучше понять оба метода и научиться применять их для решения разных аналитических задач."
   ]
  },
  {
   "cell_type": "markdown",
   "metadata": {},
   "source": [
    "## Group Mean"
   ]
  },
  {
   "cell_type": "markdown",
   "metadata": {},
   "source": []
  }
 ],
 "metadata": {
  "kernelspec": {
   "display_name": "venv",
   "language": "python",
   "name": "python3"
  },
  "language_info": {
   "codemirror_mode": {
    "name": "ipython",
    "version": 3
   },
   "file_extension": ".py",
   "mimetype": "text/x-python",
   "name": "python",
   "nbconvert_exporter": "python",
   "pygments_lexer": "ipython3",
   "version": "3.11.1"
  }
 },
 "nbformat": 4,
 "nbformat_minor": 2
}
